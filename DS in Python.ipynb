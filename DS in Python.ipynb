{
 "cells": [
  {
   "cell_type": "markdown",
   "metadata": {},
   "source": [
    "# Data Science in Phyton"
   ]
  },
  {
   "cell_type": "markdown",
   "metadata": {},
   "source": [
    "## Table of Content\n",
    "- [Лекция 1: Объектно-ориентированное программирование](#Лекция1:Объектно-ориентированноепрограммирование)\n",
    "- [Лекция 2: Функциональное программирование](#Лекция2:Функциональноепрограммирование)\n",
    "- [Лекция 3: Параллельное программирование](#Лекция2:Параллельноепрограммирование)\n",
    "    - [Задачка про параллельные вычисления](#Задачкапропараллельныевычисления)"
   ]
  },
  {
   "cell_type": "markdown",
   "metadata": {},
   "source": [
    " # Лекция 1: Объектно-ориентированное программирование <a name=\"Лекция1:Объектно-ориентированноепрограммирование\"></a>"
   ]
  },
  {
   "cell_type": "markdown",
   "metadata": {},
   "source": [
    "[лекция здесь](https://www.youtube.com/watch?v=Dx2SE4hYy4g&t=3s&ab_channel=%D0%A2%D0%B8%D0%BC%D0%BE%D1%84%D0%B5%D0%B9%D0%A5%D0%B8%D1%80%D1%8C%D1%8F%D0%BD%D0%BE%D0%B2)"
   ]
  },
  {
   "cell_type": "markdown",
   "metadata": {},
   "source": []
  },
  {
   "cell_type": "markdown",
   "metadata": {},
   "source": [
    " # Лекция 2: Функциональное программирование <a name=\"Лекция2:Функциональноепрограммирование\"></a>"
   ]
  },
  {
   "cell_type": "markdown",
   "metadata": {},
   "source": [
    "[лекция здесь](https://www.youtube.com/watch?v=3Dmi4b8MkMM&t=1s&ab_channel=%D0%A2%D0%B8%D0%BC%D0%BE%D1%84%D0%B5%D0%B9%D0%A5%D0%B8%D1%80%D1%8C%D1%8F%D0%BD%D0%BE%D0%B2)"
   ]
  },
  {
   "cell_type": "markdown",
   "metadata": {},
   "source": []
  },
  {
   "cell_type": "markdown",
   "metadata": {},
   "source": [
    " # Лекция 3: Параллельное программирование <a name=\"Лекция2:Параллельноепрограммирование\"></a>"
   ]
  },
  {
   "cell_type": "markdown",
   "metadata": {},
   "source": [
    "[лекция здесь](https://www.youtube.com/watch?v=QitEF7Qvi4w&ab_channel=%D0%A2%D0%B8%D0%BC%D0%BE%D1%84%D0%B5%D0%B9%D0%A5%D0%B8%D1%80%D1%8C%D1%8F%D0%BD%D0%BE%D0%B2)"
   ]
  },
  {
   "cell_type": "markdown",
   "metadata": {},
   "source": []
  },
  {
   "cell_type": "markdown",
   "metadata": {},
   "source": [
    "## Задачка про параллельные вычисления <a name=\"Задачкапропараллельныевычисления\"></a>"
   ]
  },
  {
   "cell_type": "markdown",
   "metadata": {},
   "source": [
    "см здесь: https://youtu.be/QitEF7Qvi4w?t=6925\n",
    "\n",
    "### Дано: \n",
    "массив прямоугольной формы а х в, заполненный нулями кроме верхней строки и левого столбца - они заполнены целыми числами от 1 до а и в соответственно. \n",
    "\n",
    "### Задание:\n",
    "1. Заменить в ячейках массива нули на числа, равные сумме содержимого верхней и левой ячеек.\n",
    "2. Сделать то же самое в параллельном вычислении."
   ]
  },
  {
   "cell_type": "code",
   "execution_count": 130,
   "metadata": {},
   "outputs": [],
   "source": [
    "import numpy as np\n",
    "import pandas as pd\n",
    "import time            # модуль для органзации задержки по времени sleep\n",
    "# import timeit          модуль для вычисления времени выполнения программы"
   ]
  },
  {
   "cell_type": "markdown",
   "metadata": {},
   "source": [
    "[timeit](https://docs.python.org/3/library/timeit.html) doc  \n",
    "[timeit](https://dev-gang.ru/article/kak-izmerit-vremja-vypolnenija-skripta-python-ub9t58z05h/) example  \n",
    "timeit на больших кусках кода отказался работать. Буду использовать time."
   ]
  },
  {
   "cell_type": "code",
   "execution_count": 132,
   "metadata": {},
   "outputs": [
    {
     "data": {
      "text/plain": [
       "array([[1, 2, 3, 4, 5],\n",
       "       [2, 0, 0, 0, 0],\n",
       "       [3, 0, 0, 0, 0],\n",
       "       [4, 0, 0, 0, 0],\n",
       "       [5, 0, 0, 0, 0],\n",
       "       [6, 0, 0, 0, 0],\n",
       "       [7, 0, 0, 0, 0],\n",
       "       [8, 0, 0, 0, 0],\n",
       "       [9, 0, 0, 0, 0]], dtype=int32)"
      ]
     },
     "execution_count": 132,
     "metadata": {},
     "output_type": "execute_result"
    }
   ],
   "source": [
    "a = 9  # число строк\n",
    "b = 5  # число столбцов\n",
    "M = np.zeros(shape=(a,b), dtype=np.int32) # создаем массив размером a x b заполняем его нулями\n",
    "\n",
    "for i in range(a):    # первый столбец заполняем целыми числами от 1 и далее \n",
    "    M[i,0]=i+1\n",
    "    \n",
    "for j in range(b):    # первую строку заполняем целыми числами от 1 и далее \n",
    "    M[0,j]=j+1\n",
    "    \n",
    "M"
   ]
  },
  {
   "cell_type": "markdown",
   "metadata": {},
   "source": [
    "### Решение без параллельных вычислений"
   ]
  },
  {
   "cell_type": "code",
   "execution_count": 133,
   "metadata": {},
   "outputs": [
    {
     "name": "stdout",
     "output_type": "stream",
     "text": [
      "Next cell calculation completed: i=8, j=4, R=1507                                                                                                     \n",
      " Time elapsed =  8.111577987670898 seconds\n"
     ]
    },
    {
     "data": {
      "text/plain": [
       "array([[   1,    2,    3,    4,    5],\n",
       "       [   2,    4,    7,   11,   16],\n",
       "       [   3,    7,   14,   25,   41],\n",
       "       [   4,   11,   25,   50,   91],\n",
       "       [   5,   16,   41,   91,  182],\n",
       "       [   6,   22,   63,  154,  336],\n",
       "       [   7,   29,   92,  246,  582],\n",
       "       [   8,   37,  129,  375,  957],\n",
       "       [   9,   46,  175,  550, 1507]], dtype=int32)"
      ]
     },
     "execution_count": 133,
     "metadata": {},
     "output_type": "execute_result"
    }
   ],
   "source": [
    "R = np.copy(M)                    # создал копию чтобы упростить отладку\n",
    "\n",
    "def cell(i, j, R):\n",
    "    time.sleep(0.25)              # задержка имитирует очень сложное вычисление в ячейке\n",
    "    return R[i-1,j] + R[i,j-1]    # вычисляем очередную ячейку\n",
    "\n",
    "start_time = time.time()          # зафиксировал время начала работы цикла\n",
    "\n",
    "for i in range(1, a):  # не использую zip чтобы впоследствии можно было выбирать направление проходки\n",
    "    for j in range(1, b):\n",
    "        R[i,j] = cell(i, j, R)\n",
    "        print(\"Next cell calculation completed: i={}, j={}, R={}\".format(\n",
    "            i, j, R[i, j]), \" \"*100, end=\"\\r\")\n",
    "\n",
    "all_time = time.time() - start_time           # зафиксировал время конца цикла, посчитал длительность\n",
    "print(\"\\n\", \"Time elapsed = \", all_time, \"seconds\")  # вывел длительность\n",
    "        \n",
    "R"
   ]
  },
  {
   "cell_type": "markdown",
   "metadata": {},
   "source": []
  },
  {
   "cell_type": "markdown",
   "metadata": {},
   "source": [
    "### Решение с параллельными вычислениями"
   ]
  },
  {
   "cell_type": "markdown",
   "metadata": {
    "jupyter": {
     "source_hidden": true
    }
   },
   "source": [
    "Идея: пока вычисляется i-й ряд (1<i<a) можно организовать параллельное вычисление i+1 ряда с задержкой на 1 такт.  \n",
    "Лекцию см здесь: https://youtu.be/QitEF7Qvi4w?t=5326  \n",
    "модуль [\\_thread](https://docs.python.org/3/library/_thread.html?highlight=thread#module-_thread)  \n",
    "модуль [threading](https://docs.python.org/3/library/threading.html?highlight=thread#module-threading)"
   ]
  },
  {
   "cell_type": "code",
   "execution_count": null,
   "metadata": {},
   "outputs": [],
   "source": []
  }
 ],
 "metadata": {
  "kernelspec": {
   "display_name": "Python 3",
   "language": "python",
   "name": "python3"
  },
  "language_info": {
   "codemirror_mode": {
    "name": "ipython",
    "version": 3
   },
   "file_extension": ".py",
   "mimetype": "text/x-python",
   "name": "python",
   "nbconvert_exporter": "python",
   "pygments_lexer": "ipython3",
   "version": "3.8.5"
  }
 },
 "nbformat": 4,
 "nbformat_minor": 4
}
