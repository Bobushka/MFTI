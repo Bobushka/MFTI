{
 "cells": [
  {
   "cell_type": "markdown",
   "metadata": {},
   "source": [
    "# Data Science in Phyton"
   ]
  },
  {
   "cell_type": "markdown",
   "metadata": {},
   "source": [
    "## Table of Content\n",
    "- [Лекция 1: Объектно-ориентированное программирование](#Лекция1:Объектно-ориентированноепрограммирование)\n",
    "- [Лекция 2: Функциональное программирование](#Лекция2:Функциональноепрограммирование)\n",
    "- [Лекция 3: Параллельное программирование](#Лекция2:Параллельноепрограммирование)"
   ]
  },
  {
   "cell_type": "markdown",
   "metadata": {},
   "source": [
    " # Лекция 1: Объектно-ориентированное программирование <a name=\"Лекция1:Объектно-ориентированноепрограммирование\"></a>"
   ]
  },
  {
   "cell_type": "markdown",
   "metadata": {},
   "source": [
    "[лекция здесь](https://www.youtube.com/watch?v=Dx2SE4hYy4g&t=3s&ab_channel=%D0%A2%D0%B8%D0%BC%D0%BE%D1%84%D0%B5%D0%B9%D0%A5%D0%B8%D1%80%D1%8C%D1%8F%D0%BD%D0%BE%D0%B2)"
   ]
  },
  {
   "cell_type": "markdown",
   "metadata": {},
   "source": []
  },
  {
   "cell_type": "markdown",
   "metadata": {},
   "source": [
    " # Лекция 2: Функциональное программирование <a name=\"Лекция2:Функциональноепрограммирование\"></a>"
   ]
  },
  {
   "cell_type": "markdown",
   "metadata": {},
   "source": [
    "[лекция здесь](https://www.youtube.com/watch?v=3Dmi4b8MkMM&t=1s&ab_channel=%D0%A2%D0%B8%D0%BC%D0%BE%D1%84%D0%B5%D0%B9%D0%A5%D0%B8%D1%80%D1%8C%D1%8F%D0%BD%D0%BE%D0%B2)"
   ]
  },
  {
   "cell_type": "markdown",
   "metadata": {},
   "source": []
  },
  {
   "cell_type": "markdown",
   "metadata": {},
   "source": [
    " # Лекция 3: Параллельное программирование <a name=\"Лекция2:Параллельноепрограммирование\"></a>"
   ]
  },
  {
   "cell_type": "markdown",
   "metadata": {},
   "source": [
    "[лекция здесь](https://www.youtube.com/watch?v=QitEF7Qvi4w&ab_channel=%D0%A2%D0%B8%D0%BC%D0%BE%D1%84%D0%B5%D0%B9%D0%A5%D0%B8%D1%80%D1%8C%D1%8F%D0%BD%D0%BE%D0%B2)"
   ]
  },
  {
   "cell_type": "markdown",
   "metadata": {},
   "source": [
    "## Задачка от Кирьянова про матрицу на третьей лекции"
   ]
  },
  {
   "cell_type": "markdown",
   "metadata": {},
   "source": [
    "см здесь: https://youtu.be/QitEF7Qvi4w?t=6925"
   ]
  },
  {
   "cell_type": "code",
   "execution_count": 86,
   "metadata": {},
   "outputs": [],
   "source": [
    "import numpy as np\n",
    "import pandas as pd\n",
    "import time"
   ]
  },
  {
   "cell_type": "code",
   "execution_count": 87,
   "metadata": {},
   "outputs": [
    {
     "data": {
      "text/plain": [
       "array([[0, 0, 0, 0, 0],\n",
       "       [0, 0, 0, 0, 0],\n",
       "       [0, 0, 0, 0, 0],\n",
       "       [0, 0, 0, 0, 0],\n",
       "       [0, 0, 0, 0, 0],\n",
       "       [0, 0, 0, 0, 0],\n",
       "       [0, 0, 0, 0, 0],\n",
       "       [0, 0, 0, 0, 0],\n",
       "       [0, 0, 0, 0, 0]], dtype=int32)"
      ]
     },
     "execution_count": 87,
     "metadata": {},
     "output_type": "execute_result"
    }
   ],
   "source": [
    "# создаем массив размером a x b (позже можно организовать ввод a-b с клавиатуры)\n",
    "a = 9  # rows number\n",
    "b = 5  # columns number\n",
    "M = np.zeros(shape=(a,b), dtype=np.int32)\n",
    "M"
   ]
  },
  {
   "cell_type": "code",
   "execution_count": 88,
   "metadata": {},
   "outputs": [
    {
     "data": {
      "text/plain": [
       "array([[1, 2, 3, 4, 5],\n",
       "       [2, 0, 0, 0, 0],\n",
       "       [3, 0, 0, 0, 0],\n",
       "       [4, 0, 0, 0, 0],\n",
       "       [5, 0, 0, 0, 0],\n",
       "       [6, 0, 0, 0, 0],\n",
       "       [7, 0, 0, 0, 0],\n",
       "       [8, 0, 0, 0, 0],\n",
       "       [9, 0, 0, 0, 0]], dtype=int32)"
      ]
     },
     "execution_count": 88,
     "metadata": {},
     "output_type": "execute_result"
    }
   ],
   "source": [
    "# первую строку и первый столбец заполняем числами от 1 и далее с возрастанием +1\n",
    "\n",
    "for i in range(a):\n",
    "    M[i,0]=i+1\n",
    "    \n",
    "for j in range(b):\n",
    "    M[0,j]=j+1\n",
    "\n",
    "M"
   ]
  },
  {
   "cell_type": "markdown",
   "metadata": {},
   "source": [
    "## Задание:\n",
    "1. Заполнить оставшиеся ячейки массива числами, каждое из которых равно сумме верхнего и левого чисел.\n",
    "2. Сделать то же самое в параллельном вычислении."
   ]
  },
  {
   "cell_type": "markdown",
   "metadata": {},
   "source": [
    "# Решение"
   ]
  },
  {
   "cell_type": "code",
   "execution_count": 91,
   "metadata": {},
   "outputs": [
    {
     "name": "stdout",
     "output_type": "stream",
     "text": [
      "                                                                                                                                                      \n",
      " [[   1    2    3    4    5]\n",
      " [   2    4    7   11   16]\n",
      " [   3    7   14   25   41]\n",
      " [   4   11   25   50   91]\n",
      " [   5   16   41   91  182]\n",
      " [   6   22   63  154  336]\n",
      " [   7   29   92  246  582]\n",
      " [   8   37  129  375  957]\n",
      " [   9   46  175  550 1507]]\n",
      "DONE\n"
     ]
    }
   ],
   "source": [
    "R = np.copy(M)                   # Создали копию М\n",
    "\n",
    "def r_cell(i, j, R):\n",
    "    time.sleep(0.5)              # задержка имитирует очень сложное вычисление в ячейке\n",
    "    return R[i-1,j] + R[i,j-1]\n",
    "\n",
    "for i in range(1, a):\n",
    "    for j in range(1, b):\n",
    "        R[i,j] = r_cell(i, j, R)\n",
    "        print(i, j, R[i, j], \" \"*100, end=\"\\r\")\n",
    "        print(\"Next cell calculation completed: i={}, j={}, R={}\".format(\n",
    "            i, j, R[i, j]), \" \"*100, end=\"\\r\")\n",
    "\n",
    "print(\" \"*100, \"\\n\", R)\n",
    "print(\"DONE\")"
   ]
  },
  {
   "cell_type": "markdown",
   "metadata": {},
   "source": [
    "### Теперь попробуем организовать параллельные вычисления"
   ]
  },
  {
   "cell_type": "markdown",
   "metadata": {},
   "source": [
    "Пока вычисляется i-й ряд (1<i<a)"
   ]
  }
 ],
 "metadata": {
  "kernelspec": {
   "display_name": "Python 3",
   "language": "python",
   "name": "python3"
  },
  "language_info": {
   "codemirror_mode": {
    "name": "ipython",
    "version": 3
   },
   "file_extension": ".py",
   "mimetype": "text/x-python",
   "name": "python",
   "nbconvert_exporter": "python",
   "pygments_lexer": "ipython3",
   "version": "3.8.5"
  }
 },
 "nbformat": 4,
 "nbformat_minor": 4
}
