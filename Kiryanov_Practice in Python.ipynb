{
 "cells": [
  {
   "cell_type": "markdown",
   "metadata": {},
   "source": [
    "# Practice in Phyton"
   ]
  },
  {
   "cell_type": "markdown",
   "metadata": {},
   "source": [
    "## Практика программирования на Python, Тимофей Кирьянов, МФТИ, 2020\n",
    "видосы: https://youtu.be/us7y0UhTq0s\n",
    "\n",
    "практика: http://cs.mipt.ru/python\n",
    "\n",
    "документация по Python: https://docs.python.org/3/"
   ]
  },
  {
   "cell_type": "code",
   "execution_count": 79,
   "metadata": {},
   "outputs": [
    {
     "ename": "SyntaxError",
     "evalue": "invalid syntax (<ipython-input-79-a83ffe57a3d8>, line 3)",
     "output_type": "error",
     "traceback": [
      "\u001b[0;36m  File \u001b[0;32m\"<ipython-input-79-a83ffe57a3d8>\"\u001b[0;36m, line \u001b[0;32m3\u001b[0m\n\u001b[0;31m    1.  <a href=\"#item1\">Лекция 1</a>\u001b[0m\n\u001b[0m           ^\u001b[0m\n\u001b[0;31mSyntaxError\u001b[0m\u001b[0;31m:\u001b[0m invalid syntax\n"
     ]
    }
   ],
   "source": [
    "## Table of Contents\n",
    "\n",
    "1.  <a href=\"#item1\">Лекция 1</a>\n",
    "2.  <a href=\"#item2\">Explore a Given Venue</a>  \n",
    "3.  <a href=\"#item3\">Explore a User</a>  \n",
    "4.  <a href=\"#item4\">Foursquare API Explore Function</a>  \n",
    "5.  <a href=\"#item5\">Get Trending Venues</a> "
   ]
  },
  {
   "cell_type": "markdown",
   "metadata": {},
   "source": [
    "some changes made"
   ]
  },
  {
   "cell_type": "markdown",
   "metadata": {},
   "source": [
    "## Лекция 1"
   ]
  },
  {
   "cell_type": "markdown",
   "metadata": {},
   "source": [
    "### 1.1 Питон - дзен"
   ]
  },
  {
   "cell_type": "code",
   "execution_count": 2,
   "metadata": {},
   "outputs": [
    {
     "name": "stdout",
     "output_type": "stream",
     "text": [
      "The Zen of Python, by Tim Peters\n",
      "\n",
      "Beautiful is better than ugly.\n",
      "Explicit is better than implicit.\n",
      "Simple is better than complex.\n",
      "Complex is better than complicated.\n",
      "Flat is better than nested.\n",
      "Sparse is better than dense.\n",
      "Readability counts.\n",
      "Special cases aren't special enough to break the rules.\n",
      "Although practicality beats purity.\n",
      "Errors should never pass silently.\n",
      "Unless explicitly silenced.\n",
      "In the face of ambiguity, refuse the temptation to guess.\n",
      "There should be one-- and preferably only one --obvious way to do it.\n",
      "Although that way may not be obvious at first unless you're Dutch.\n",
      "Now is better than never.\n",
      "Although never is often better than *right* now.\n",
      "If the implementation is hard to explain, it's a bad idea.\n",
      "If the implementation is easy to explain, it may be a good idea.\n",
      "Namespaces are one honking great idea -- let's do more of those!\n"
     ]
    }
   ],
   "source": [
    "import this    # импорт принципов Пайтона"
   ]
  },
  {
   "cell_type": "markdown",
   "metadata": {},
   "source": [
    "### 1.2 Переменные разных типов"
   ]
  },
  {
   "cell_type": "code",
   "execution_count": 51,
   "metadata": {},
   "outputs": [
    {
     "ename": "ValueError",
     "evalue": "invalid literal for int() with base 10: '1234.5'",
     "output_type": "error",
     "traceback": [
      "\u001b[0;31m---------------------------------------------------------------------------\u001b[0m",
      "\u001b[0;31mValueError\u001b[0m                                Traceback (most recent call last)",
      "\u001b[0;32m<ipython-input-51-51fe29fd93e2>\u001b[0m in \u001b[0;36m<module>\u001b[0;34m\u001b[0m\n\u001b[1;32m      1\u001b[0m \u001b[0ms\u001b[0m \u001b[0;34m=\u001b[0m \u001b[0;34m\"1234.5\"\u001b[0m  \u001b[0;31m# пусть есть строка\u001b[0m\u001b[0;34m\u001b[0m\u001b[0;34m\u001b[0m\u001b[0m\n\u001b[0;32m----> 2\u001b[0;31m \u001b[0mx\u001b[0m \u001b[0;34m=\u001b[0m \u001b[0mint\u001b[0m\u001b[0;34m(\u001b[0m\u001b[0ms\u001b[0m\u001b[0;34m)\u001b[0m    \u001b[0;31m# интерпретировать ее как челое число - не получится\u001b[0m\u001b[0;34m\u001b[0m\u001b[0;34m\u001b[0m\u001b[0m\n\u001b[0m",
      "\u001b[0;31mValueError\u001b[0m: invalid literal for int() with base 10: '1234.5'"
     ]
    }
   ],
   "source": [
    "s = \"1234.5\"  # пусть есть строка\n",
    "x = int(s)    # интерпретировать ее как челое число - не получится"
   ]
  },
  {
   "cell_type": "code",
   "execution_count": 10,
   "metadata": {},
   "outputs": [
    {
     "data": {
      "text/plain": [
       "1234.5"
      ]
     },
     "execution_count": 10,
     "metadata": {},
     "output_type": "execute_result"
    }
   ],
   "source": [
    "y = float(s)   # но получится как дробное\n",
    "y"
   ]
  },
  {
   "cell_type": "code",
   "execution_count": 11,
   "metadata": {},
   "outputs": [
    {
     "data": {
      "text/plain": [
       "1234"
      ]
     },
     "execution_count": 11,
     "metadata": {},
     "output_type": "execute_result"
    }
   ],
   "source": [
    "x = int(y)     # и теперь уже можно привести к целому (не округляет а отбрасывает)\n",
    "x"
   ]
  },
  {
   "cell_type": "code",
   "execution_count": 13,
   "metadata": {},
   "outputs": [
    {
     "data": {
      "text/plain": [
       "1235"
      ]
     },
     "execution_count": 13,
     "metadata": {},
     "output_type": "execute_result"
    }
   ],
   "source": [
    "x = round(y + 0.1)  # если хотим округлить, то используем round\n",
    "x"
   ]
  },
  {
   "cell_type": "code",
   "execution_count": 14,
   "metadata": {},
   "outputs": [
    {
     "name": "stdin",
     "output_type": "stream",
     "text": [
      "Как тебя зовут?  Борис Валентинович\n"
     ]
    },
    {
     "name": "stdout",
     "output_type": "stream",
     "text": [
      "Привет, Борис Валентинович!\n"
     ]
    }
   ],
   "source": [
    "# пример программы с интерактивным вводом и использованием функциональной строки (f) в операторе print:\n",
    "name = input(\"Как тебя зовут? \")\n",
    "print(f\"Привет, {name}!\")"
   ]
  },
  {
   "cell_type": "markdown",
   "metadata": {},
   "source": [
    "##### в Питон можно запросто использовать русский язык, никокой разницы с английским. В других языках не так."
   ]
  },
  {
   "cell_type": "code",
   "execution_count": 16,
   "metadata": {},
   "outputs": [],
   "source": [
    "# в Питоне знак = рассматривается как оператор присваивания. Примеры:\n",
    "x -= 1     # равнозначно x = x - 1 (уменьшение х на единицу, декрементация)\n",
    "x += 1     # увеличение х на 1, инкрементация\n",
    "x *= 2     # увеличение х в 2 раза\n",
    "x //= 2    # уменьшение х в два раза с отбрасыванием остатка (деление на 2 нацело)"
   ]
  },
  {
   "cell_type": "markdown",
   "metadata": {},
   "source": [
    "почитай кодинг-стайл по поиску PEP8 (как следует красиво оформлять программу)"
   ]
  },
  {
   "cell_type": "markdown",
   "metadata": {},
   "source": [
    "### 1.3 Циклы"
   ]
  },
  {
   "cell_type": "code",
   "execution_count": 20,
   "metadata": {},
   "outputs": [
    {
     "name": "stdout",
     "output_type": "stream",
     "text": [
      "3\n",
      "4\n",
      "5\n",
      "End!\n"
     ]
    }
   ],
   "source": [
    "# цикл while\n",
    "x = 3              # пусть  start = 3,  stop = 6,  step = 1\n",
    "while x < 6:\n",
    "    print(x)\n",
    "    x += 1\n",
    "print(\"End!\")"
   ]
  },
  {
   "cell_type": "code",
   "execution_count": 21,
   "metadata": {},
   "outputs": [
    {
     "name": "stdout",
     "output_type": "stream",
     "text": [
      "25\n",
      "9\n",
      "49\n"
     ]
    }
   ],
   "source": [
    "# цикл for\n",
    "for x in 5,3,7:    # с непосредственно заданной последовательностью\n",
    "    print (x**2)\n",
    "print(\"End!\")"
   ]
  },
  {
   "cell_type": "code",
   "execution_count": 23,
   "metadata": {},
   "outputs": [
    {
     "name": "stdout",
     "output_type": "stream",
     "text": [
      "2\n",
      "3\n",
      "4\n",
      "End!\n"
     ]
    }
   ],
   "source": [
    "A = range(2,5,1)    # задаем арифметическую прогрессию со Start=2, Stop=5, Step=1\n",
    "for x in A:         # цикл for с последовательностью в виде арифметической прогрессии\n",
    "    print (x)\n",
    "print(\"End!\")"
   ]
  },
  {
   "cell_type": "markdown",
   "metadata": {},
   "source": [
    "### 1.4 Ветвления"
   ]
  },
  {
   "cell_type": "code",
   "execution_count": 24,
   "metadata": {},
   "outputs": [
    {
     "name": "stdin",
     "output_type": "stream",
     "text": [
      " 4\n",
      " -3\n"
     ]
    },
    {
     "name": "stdout",
     "output_type": "stream",
     "text": [
      "C\n"
     ]
    }
   ],
   "source": [
    "# зададим два числа с клавиатуры:\n",
    "x = int(input())   # поскольку с клавы вводится строка, то надо ее перевести в численной формат (интуем)\n",
    "y = int(input())\n",
    "\n",
    "# пусть требуется вывести на печать буквы A, B, C, D в зависимости от того, в какой \n",
    "# четверти числовой плоскости находится точка с введенными координатами\n",
    "# делаем:\n",
    "\n",
    "if y > 0:\n",
    "    if x > 0:\n",
    "        print(\"A\")\n",
    "    else:\n",
    "        print(\"B\")\n",
    "else:\n",
    "    if x > 0:\n",
    "        print(\"C\")\n",
    "    else:\n",
    "        print(\"D\")\n",
    "print(\"End!\")"
   ]
  },
  {
   "cell_type": "code",
   "execution_count": 27,
   "metadata": {},
   "outputs": [
    {
     "name": "stdout",
     "output_type": "stream",
     "text": [
      "C\n",
      "End!\n"
     ]
    }
   ],
   "source": [
    "# можно сделать это же при помощи логических операций и-или-не и оператора elif (else + if):\n",
    "\n",
    "if x > 0 and y > 0:\n",
    "    print(\"A\")\n",
    "elif x < 0 and y > 0:\n",
    "    print(\"B\")\n",
    "elif x > 0 and y < 0:\n",
    "    print(\"C\")\n",
    "elif x < 0 and y < 0:\n",
    "    print(\"D\")\n",
    "else: \n",
    "    print(\"НИКОГДА!\")\n",
    "print(\"End!\")"
   ]
  },
  {
   "cell_type": "markdown",
   "metadata": {},
   "source": [
    "### 1.5 Библиотека Черепашка\n",
    "(прикольная библиотека для обучения детей программированию)"
   ]
  },
  {
   "cell_type": "code",
   "execution_count": 49,
   "metadata": {},
   "outputs": [],
   "source": [
    "import turtle                  # импортируем\n",
    "turtle.shape('turtle')         # меняем указатель на черепашку\n",
    "turtle.color('green', 'yellow')# меняем цвет черепашки на зеленый, а цвет заливки на желтый\n",
    "turtle.shapesize(2)            # черепашку побольше\n",
    "turtle.pensize(3)              # утолщаем линию\n",
    "turtle.speed(10)               # увеличиваем скорость\n",
    "\n",
    "turtle.forward(10)"
   ]
  },
  {
   "cell_type": "markdown",
   "metadata": {},
   "source": [
    "теперь напишем подпрограмму \"черепашка рисует звезду Давида\""
   ]
  },
  {
   "cell_type": "code",
   "execution_count": 46,
   "metadata": {},
   "outputs": [],
   "source": [
    "def david():\n",
    "    for step in range(6):            # шесть лучиков\n",
    "        turtle.begin_fill()          # включаем заливку\n",
    "        for i in range(3):           # три стороны у лучика\n",
    "            turtle.forward(50)       # рисуем одну сторону лучика\n",
    "            turtle.left(360 / 3)     # поворачиваем\n",
    "        turtle.end_fill()            # выключаем заливку\n",
    "        \n",
    "        turtle.forward(50)           # двигаемся к началу следующего лучика\n",
    "        turtle.right(60)             # встаем в нужном направлении\n",
    "\n",
    "david()                              # вызываем подпрограмму"
   ]
  },
  {
   "cell_type": "markdown",
   "metadata": {},
   "source": []
  },
  {
   "cell_type": "markdown",
   "metadata": {},
   "source": [
    "## Лекция 2: золотой фонд Python"
   ]
  },
  {
   "cell_type": "markdown",
   "metadata": {},
   "source": [
    "### 2.1 Присваивание и кортежи"
   ]
  },
  {
   "cell_type": "code",
   "execution_count": 52,
   "metadata": {},
   "outputs": [],
   "source": [
    "# в Питоне используется ссылочная модель данных: Имя является ссылкой на Объект\n",
    "x = 2 + 3"
   ]
  },
  {
   "cell_type": "code",
   "execution_count": 58,
   "metadata": {},
   "outputs": [
    {
     "data": {
      "text/plain": [
       "(1, 2, 3)"
      ]
     },
     "execution_count": 58,
     "metadata": {},
     "output_type": "execute_result"
    }
   ],
   "source": [
    "# вместо \n",
    "x = 1\n",
    "y = 2\n",
    "z = 3\n",
    "# можно записать\n",
    "x, y, z = 1, 2, 3   # это и есть кортеж\n",
    "x, y, z"
   ]
  },
  {
   "cell_type": "code",
   "execution_count": 55,
   "metadata": {},
   "outputs": [
    {
     "data": {
      "text/plain": [
       "(2, 1)"
      ]
     },
     "execution_count": 55,
     "metadata": {},
     "output_type": "execute_result"
    }
   ],
   "source": [
    "# обмен переменными\n",
    "# пусть\n",
    "x, y = 1, 2\n",
    "# как обменяться?\n",
    "# x = y; y = x - неверно\n",
    "x, y = y, x  # верно\n",
    "x, y"
   ]
  },
  {
   "cell_type": "code",
   "execution_count": 59,
   "metadata": {},
   "outputs": [
    {
     "name": "stdout",
     "output_type": "stream",
     "text": [
      "<class 'tuple'>\n"
     ]
    }
   ],
   "source": [
    "# пример кортежа\n",
    "t = 1, 2, 3, 4, 5  # задаем кортеж. \n",
    "print(type(t))"
   ]
  },
  {
   "cell_type": "code",
   "execution_count": 61,
   "metadata": {},
   "outputs": [
    {
     "data": {
      "text/plain": [
       "(1, 2, 3, 4, 5)"
      ]
     },
     "execution_count": 61,
     "metadata": {},
     "output_type": "execute_result"
    }
   ],
   "source": [
    "# кортеж - неизменяемый объект. Как же его поменять если понадобиться? Ответ: распаковать\n",
    "a, b, c, d, e = t  # теперь каждое значение к окртеже сопоставлено с отдельной переменной\n",
    "a, b, c, d, e"
   ]
  },
  {
   "cell_type": "code",
   "execution_count": 64,
   "metadata": {},
   "outputs": [
    {
     "data": {
      "text/plain": [
       "(1, 2)"
      ]
     },
     "execution_count": 64,
     "metadata": {},
     "output_type": "execute_result"
    }
   ],
   "source": [
    "# а что если кортеж длинный (или мы даже не знаем какой), а нам нужны только первые два числа? Тогда так:\n",
    "f = t[0]\n",
    "g = t[1]\n",
    "f, g"
   ]
  },
  {
   "cell_type": "code",
   "execution_count": 65,
   "metadata": {},
   "outputs": [
    {
     "data": {
      "text/plain": [
       "[3, 4, 5]"
      ]
     },
     "execution_count": 65,
     "metadata": {},
     "output_type": "execute_result"
    }
   ],
   "source": [
    "# или так:\n",
    "f, g, *rest = t\n",
    "rest"
   ]
  },
  {
   "cell_type": "code",
   "execution_count": 66,
   "metadata": {},
   "outputs": [
    {
     "name": "stdout",
     "output_type": "stream",
     "text": [
      "1 2 3 4 5\n"
     ]
    }
   ],
   "source": [
    "print(*t)  # распечатка поэлементной распаковки кортежа"
   ]
  },
  {
   "cell_type": "code",
   "execution_count": 67,
   "metadata": {},
   "outputs": [],
   "source": [
    "# В кортеж не обязательно класть объекты одного типа. Можно всякие. \n",
    "# Это удобно, например, когда передаем список аргументов в функцию."
   ]
  },
  {
   "cell_type": "markdown",
   "metadata": {},
   "source": [
    "Интересная функция range(). Это ГЕНЕРАТОР арифметической прогрессии, ИТЕРИРУЕМЫЙ ОБЪЕКТ.\n",
    "Пусть А = range(start, stop, step). Тогда А - арифметическая прогрессия.\n",
    "s/s/s - только целые числа. Занимает очень мало памяти, ибо всегда вычисляет, но не хранит всё."
   ]
  },
  {
   "cell_type": "markdown",
   "metadata": {},
   "source": [
    "Чем отличается кортеж от списка (tuple vs list)?  Лист - изменяемый список. А от массива? В массив можно класть только объекты одного типа."
   ]
  },
  {
   "cell_type": "code",
   "execution_count": 68,
   "metadata": {},
   "outputs": [],
   "source": [
    "A = [(11,10),(12,20), (13,30)]  # Задали список кортежей\n",
    "for i in range(len(A)):\n",
    "    angel, length = A[i]    # распаковываем i-й кортеж из списка\n",
    "    turle.forward(length)   # двигаем черепашку (например)\n",
    "    turtle.left(angel)\n",
    "    \n",
    "# или можно записать то же самое (Питон позволяет):\n",
    "for angle, length in A:    # так можно, если мы точно знаем что в списке А кортежи содержат по два значения\n",
    "    turle.forward(length)\n",
    "    turtle.left(angel)"
   ]
  },
  {
   "cell_type": "markdown",
   "metadata": {},
   "source": [
    "### 2.2 Множества и словари"
   ]
  },
  {
   "cell_type": "code",
   "execution_count": 72,
   "metadata": {},
   "outputs": [
    {
     "data": {
      "text/plain": [
       "{'Moscow', 'Piter', 'Riga', 'Rostov'}"
      ]
     },
     "execution_count": 72,
     "metadata": {},
     "output_type": "execute_result"
    }
   ],
   "source": [
    "# set и dict - элементы в них не упорядочены (у элементов нет индексов). И они изменяемы (кортеж - нет).\n",
    "# Это их отличие от списка, кортежа и массива\n",
    "S = {\"Moscow\",\n",
    "    \"Riga\",\n",
    "    \"Piter\"}\n",
    "# добавbv еще один элемент множества:\n",
    "S.add (\"Rostov\")   # Со списком так нельзя, только .append (добавление в конец)\n",
    "S"
   ]
  },
  {
   "cell_type": "code",
   "execution_count": 75,
   "metadata": {},
   "outputs": [
    {
     "name": "stdout",
     "output_type": "stream",
     "text": [
      "Piter\n",
      "Riga\n",
      "Moscow\n",
      "Rostov\n"
     ]
    }
   ],
   "source": [
    "# из множеств можно удалять (есть два варианта). \n",
    "# Прелесть множества в том, что можно очень быстро проверить, если ли в нем такой элемент\n",
    "if \"Riga\" in S:\n",
    "    pass\n",
    "# при этом не происходит медленный перебор по индексам (их нет), а ответ выдается сразу.\n",
    "# множества можно пересекать, бъединять, вычитать, симметрировать. По ним можно бежать:\n",
    "for el in S:\n",
    "    print(el)"
   ]
  },
  {
   "cell_type": "code",
   "execution_count": 76,
   "metadata": {},
   "outputs": [
    {
     "data": {
      "text/plain": [
       "{'Moscow': 2233, 'Riga': 1462, 'Piter': 4567}"
      ]
     },
     "execution_count": 76,
     "metadata": {},
     "output_type": "execute_result"
    }
   ],
   "source": [
    "# Допустим, нам надо к каждому городу прицепить некое значение (например, численность населения).\n",
    "# Тогда в нашем множестве будут храниться кортежи - получится словарь.  \n",
    "# В множество каждый элемент может входить только один раз, в словарь - сколько угодно.\n",
    "# Но ключ (название города) должен быть уникальным. \n",
    "\n",
    "# Пример:\n",
    "D = {\"Moscow\" : 2233,\n",
    "    \"Riga\" : 1462,\n",
    "    \"Piter\" : 4567}\n",
    "D"
   ]
  },
  {
   "cell_type": "code",
   "execution_count": 77,
   "metadata": {},
   "outputs": [
    {
     "data": {
      "text/plain": [
       "{'Moscow': 2233, 'Riga': 1462, 'Piter': 4567, 'Rostov': 7623}"
      ]
     },
     "execution_count": 77,
     "metadata": {},
     "output_type": "execute_result"
    }
   ],
   "source": [
    "#Добавлять элемент в словарь надо иначе:\n",
    "D[\"Rostov\"] = 7623\n",
    "D"
   ]
  },
  {
   "cell_type": "code",
   "execution_count": 78,
   "metadata": {},
   "outputs": [
    {
     "name": "stdout",
     "output_type": "stream",
     "text": [
      "Moscow 2233\n",
      "Riga 1462\n",
      "Piter 4567\n",
      "Rostov 7623\n"
     ]
    }
   ],
   "source": [
    "# Можно бежать по словарю, но это делается не так, как в множестве:\n",
    "for key in D:\n",
    "    print(key, D[key])"
   ]
  },
  {
   "cell_type": "markdown",
   "metadata": {},
   "source": []
  },
  {
   "cell_type": "markdown",
   "metadata": {},
   "source": [
    "## Лекция 3: Функции и локальность имён"
   ]
  },
  {
   "cell_type": "markdown",
   "metadata": {},
   "source": []
  },
  {
   "cell_type": "markdown",
   "metadata": {},
   "source": [
    "## Лекция 4: The Code Quality"
   ]
  },
  {
   "cell_type": "markdown",
   "metadata": {},
   "source": [
    "### 4.1 смотреть как он ищет код на гитхабе по ключевому слову!!!\n",
    "\n",
    "https://youtu.be/JudiqSMKB34?t=954"
   ]
  },
  {
   "cell_type": "code",
   "execution_count": 2,
   "metadata": {},
   "outputs": [],
   "source": [
    "# заходим на гитхаб\n",
    "# вводим в поиске то, что нас интересует\n",
    "# стаскиваем к себе через консоль\n",
    "# пример:\n",
    "# https://github.com/imadwivedi/Web-Scraping-using-BeautifulSoup/blob/master/bs_scraping.py"
   ]
  },
  {
   "cell_type": "markdown",
   "metadata": {},
   "source": [
    "### 4.2 Coding style PEP8"
   ]
  },
  {
   "cell_type": "code",
   "execution_count": 8,
   "metadata": {},
   "outputs": [],
   "source": [
    "# https://www.python.org/dev/peps/pep-0008/\n",
    "# https://pythonworld.ru/osnovy/pep-8-rukovodstvo-po-napisaniyu-koda-na-python.html   - на русском\n",
    "# РЕФАКТОРИНГ"
   ]
  },
  {
   "cell_type": "markdown",
   "metadata": {},
   "source": [
    "### 4.3 Документ-строки \"\"\"    \"\"\" для функций"
   ]
  },
  {
   "cell_type": "markdown",
   "metadata": {},
   "source": [
    "## Lecture 5: The Code Composition"
   ]
  },
  {
   "cell_type": "markdown",
   "metadata": {},
   "source": [
    "## Lecture 6: Событийно-ориентированное программирование"
   ]
  },
  {
   "cell_type": "code",
   "execution_count": 5,
   "metadata": {},
   "outputs": [],
   "source": [
    "# записать команды git"
   ]
  },
  {
   "cell_type": "code",
   "execution_count": 6,
   "metadata": {},
   "outputs": [],
   "source": [
    "# событийное начинается с https://youtu.be/7uEB7QXsrFk?t=3165"
   ]
  },
  {
   "cell_type": "markdown",
   "metadata": {},
   "source": [
    "## Lecture 7: Модули и классы\n",
    "- обязательно законспектировать про модули, пакеты и классы !!!"
   ]
  },
  {
   "cell_type": "markdown",
   "metadata": {},
   "source": [
    "## Lecture 8: Объектно-ориентированное программирование"
   ]
  },
  {
   "cell_type": "code",
   "execution_count": 9,
   "metadata": {},
   "outputs": [],
   "source": [
    "# объекты и классы"
   ]
  },
  {
   "cell_type": "markdown",
   "metadata": {},
   "source": [
    "## Lecture 12: Документация проекта"
   ]
  },
  {
   "cell_type": "markdown",
   "metadata": {},
   "source": [
    "Здесь говорим только о рабочей документации (не пользовательской).\n",
    "\n",
    "Документация бывает: внешняя (во внешнем файле типа Вики) и внутренняя (прямо в программном в коде)\n",
    "\n",
    "Внутренняя всегда лучше внешней, потому что внешняя устаревает. \n",
    "\n",
    "Устаревшая документация ХУЖЕ, чем отсутствующая."
   ]
  },
  {
   "cell_type": "markdown",
   "metadata": {},
   "source": [
    "Внутренняя документация бывает:\n",
    "- самодокументирующийся код. Это самая хорошая документация. Но не всегда достаточная.\n",
    "- комментарии в тексте с помощью #  Ставить в конце строки либо над строкой.\n",
    "- документ-строка + аннотации типов (см RST-разметку или Markdown). Поддерживает автоматическое создание поддерживающей документации\n",
    "- проверяемые утверждения - когда комментарий одновременно и проверяет код (assert)\n",
    "- контрактное программирование (см wiki \"Бертран Мейер\") = \"проектирование по контракту\"\n",
    "https://andreacensi.github.io/contracts/"
   ]
  },
  {
   "cell_type": "markdown",
   "metadata": {},
   "source": [
    "## Lecture 13: Контроль качества ПО"
   ]
  },
  {
   "cell_type": "code",
   "execution_count": 4,
   "metadata": {},
   "outputs": [],
   "source": [
    "# Waterfall vs Agile models\n",
    "# программа по числам Фибоначчи fib()\n",
    "# программа, тестирующая fib()\n",
    "# модуль doctest"
   ]
  },
  {
   "cell_type": "markdown",
   "metadata": {},
   "source": [
    "## Lecture 14: Опережающее тестирование"
   ]
  },
  {
   "cell_type": "code",
   "execution_count": 3,
   "metadata": {},
   "outputs": [],
   "source": [
    "# Test-Driven Development (TDD)\n",
    "# начинаем с проектирования набора тестов"
   ]
  },
  {
   "cell_type": "code",
   "execution_count": 75,
   "metadata": {},
   "outputs": [
    {
     "name": "stdout",
     "output_type": "stream",
     "text": [
      "n = 19   Fibonacci = 4181\n"
     ]
    }
   ],
   "source": [
    "# Calculate Fibonacci number\n",
    "# n >= 2, type(n)=int\n",
    "\n",
    "def fib(n):\n",
    "    F=[0, 1]\n",
    "    for i in range(n-1):\n",
    "        next = F[i] + F[i+1]\n",
    "        F.append(next)\n",
    "    print(\"n =\", n, \"  Fibonacci =\", next)\n",
    "\n",
    "    \n",
    "fib(19)"
   ]
  },
  {
   "cell_type": "code",
   "execution_count": 80,
   "metadata": {},
   "outputs": [
    {
     "name": "stdout",
     "output_type": "stream",
     "text": [
      "n = 19   Fibonacci = 4181\n"
     ]
    }
   ],
   "source": [
    "# Calculate Fibonacci number - как у Хирьянова\n",
    "# n >= 2, type(n)=int\n",
    "\n",
    "def fib(n):\n",
    "    f_1 = 1\n",
    "    f_2 = 0\n",
    "    for i in range(2, n+1):\n",
    "        f_1, f_2 = (f_2 + f_1), f_1\n",
    "    print(\"n =\", n, \"  Fibonacci =\", f_1)\n",
    "\n",
    "    \n",
    "fib(19)"
   ]
  },
  {
   "cell_type": "code",
   "execution_count": null,
   "metadata": {},
   "outputs": [],
   "source": []
  }
 ],
 "metadata": {
  "kernelspec": {
   "display_name": "Python 3",
   "language": "python",
   "name": "python3"
  },
  "language_info": {
   "codemirror_mode": {
    "name": "ipython",
    "version": 3
   },
   "file_extension": ".py",
   "mimetype": "text/x-python",
   "name": "python",
   "nbconvert_exporter": "python",
   "pygments_lexer": "ipython3",
   "version": "3.8.5"
  }
 },
 "nbformat": 4,
 "nbformat_minor": 4
}
